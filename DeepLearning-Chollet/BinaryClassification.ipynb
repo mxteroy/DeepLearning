{
 "cells": [
  {
   "cell_type": "code",
   "execution_count": 11,
   "metadata": {
    "colab": {
     "base_uri": "https://localhost:8080/",
     "height": 113
    },
    "colab_type": "code",
    "id": "sOZ3yfuaLwKc",
    "outputId": "a18a856e-d08a-40b3-cf8b-3a326a89f742"
   },
   "outputs": [],
   "source": [
    "from keras.datasets import imdb\n",
    "\n",
    "(train_data, train_labels), (test_data, test_labels) = imdb.load_data(num_words=10000) #num words means keeping only the top 10,000 most frequent words in the data"
   ]
  },
  {
   "cell_type": "code",
   "execution_count": 13,
   "metadata": {
    "colab": {},
    "colab_type": "code",
    "id": "ZOQpHVGDRieN"
   },
   "outputs": [],
   "source": [
    "import numpy as np\n",
    "\n",
    "def vectorize_sequences(sequences, dimension=10000):\n",
    "  results = np.zeros((len(sequences), dimension)) #10000 length array in each list; matrix length is len(sequences)\n",
    "  #print(results)\n",
    "  for i, sequence in enumerate(sequences):\n",
    "    #print(i, \" \", results, \" \", sequence)\n",
    "    #print(i)\n",
    "    results[i, sequence] = 1. #values in sequence will be treated as an index of results and then elements in those indexes will be turned to 1's\n",
    "  return results\n",
    "\n",
    "x_train = vectorize_sequences(train_data)\n",
    "x_test = vectorize_sequences(test_data)\n",
    "\n",
    "#vectorize labels\n",
    "y_train = np.asarray(train_labels).astype('float32')\n",
    "y_test = np.asarray(test_labels).astype('float32')"
   ]
  },
  {
   "cell_type": "code",
   "execution_count": 14,
   "metadata": {
    "colab": {},
    "colab_type": "code",
    "id": "uHvBl11BZzt-"
   },
   "outputs": [],
   "source": [
    "#when inputs are vectors and labels are scalars, the best type of network is a stack of fully connected Dense layers with relu activations\n",
    "#Dense(16, activation='relu') - 16 hidden units of the layer\n",
    "\n",
    "#input: vectorized text -> sequential layers (16 units dense layer -> 16 unit -> 1 layer sigmoid) -> output\n",
    "\n",
    "from keras.models import Sequential\n",
    "from keras import layers\n",
    "\n",
    "model = Sequential()\n",
    "model.add(layers.Dense(16, activation='relu', input_shape=(10000,)))\n",
    "model.add(layers.Dense(32, activation='relu')) #adjusts to input size to output size of previous layer\n",
    "model.add(layers.Dense(1, activation='sigmoid'))"
   ]
  },
  {
   "cell_type": "code",
   "execution_count": 15,
   "metadata": {
    "colab": {},
    "colab_type": "code",
    "id": "xTDqBdK22hvo"
   },
   "outputs": [],
   "source": [
    "#model.compile(optimizer='rmsprop', loss='binary_crossentropy', metrics=['accuracy'])\n",
    "\n",
    "#can also pass in objects as arguments\n",
    "\n",
    "from keras import optimizers\n",
    "from keras import losses\n",
    "from keras import metrics\n",
    "\n",
    "model.compile(optimizer=optimizers.RMSprop(lr=0.001), loss=losses.binary_crossentropy, metrics=[metrics.binary_accuracy])"
   ]
  },
  {
   "cell_type": "code",
   "execution_count": 16,
   "metadata": {
    "colab": {},
    "colab_type": "code",
    "id": "TWv0Xa8t4Bcb"
   },
   "outputs": [],
   "source": [
    "#here 10000 samples are set apart to be validation data (to test the accuracy of my model it has never seen before)\n",
    "\n",
    "x_val = x_train[:10000]\n",
    "partial_x_train = x_train[10000:]\n",
    "\n",
    "y_val = y_train[:10000]\n",
    "partial_y_train = y_train[10000:]"
   ]
  },
  {
   "cell_type": "code",
   "execution_count": 17,
   "metadata": {
    "colab": {
     "base_uri": "https://localhost:8080/",
     "height": 706
    },
    "colab_type": "code",
    "id": "wk4Mk7Ja5oYG",
    "outputId": "c0367392-e2f8-49dc-ae6e-94e892696783"
   },
   "outputs": [
    {
     "name": "stdout",
     "output_type": "stream",
     "text": [
      "Train on 15000 samples, validate on 10000 samples\n",
      "Epoch 1/20\n",
      "15000/15000 [==============================] - 3s 208us/step - loss: 0.5239 - binary_accuracy: 0.7877 - val_loss: 0.4022 - val_binary_accuracy: 0.8438\n",
      "Epoch 2/20\n",
      "15000/15000 [==============================] - 3s 170us/step - loss: 0.3056 - binary_accuracy: 0.9001 - val_loss: 0.3044 - val_binary_accuracy: 0.8878\n",
      "Epoch 3/20\n",
      "15000/15000 [==============================] - 3s 169us/step - loss: 0.2212 - binary_accuracy: 0.9278 - val_loss: 0.2788 - val_binary_accuracy: 0.8913\n",
      "Epoch 4/20\n",
      "15000/15000 [==============================] - 3s 167us/step - loss: 0.1709 - binary_accuracy: 0.9463 - val_loss: 0.2836 - val_binary_accuracy: 0.8869\n",
      "Epoch 5/20\n",
      "15000/15000 [==============================] - 2s 165us/step - loss: 0.1407 - binary_accuracy: 0.9543 - val_loss: 0.2861 - val_binary_accuracy: 0.8888\n",
      "Epoch 6/20\n",
      "15000/15000 [==============================] - 3s 167us/step - loss: 0.1117 - binary_accuracy: 0.9649 - val_loss: 0.3148 - val_binary_accuracy: 0.8794\n",
      "Epoch 7/20\n",
      "15000/15000 [==============================] - 3s 168us/step - loss: 0.0960 - binary_accuracy: 0.9719 - val_loss: 0.3378 - val_binary_accuracy: 0.8762\n",
      "Epoch 8/20\n",
      "15000/15000 [==============================] - 3s 171us/step - loss: 0.0797 - binary_accuracy: 0.9760 - val_loss: 0.3452 - val_binary_accuracy: 0.8808\n",
      "Epoch 9/20\n",
      "15000/15000 [==============================] - 3s 169us/step - loss: 0.0662 - binary_accuracy: 0.9813 - val_loss: 0.3663 - val_binary_accuracy: 0.8803\n",
      "Epoch 10/20\n",
      "15000/15000 [==============================] - 3s 171us/step - loss: 0.0520 - binary_accuracy: 0.9867 - val_loss: 0.4409 - val_binary_accuracy: 0.8627\n",
      "Epoch 11/20\n",
      "15000/15000 [==============================] - 3s 170us/step - loss: 0.0454 - binary_accuracy: 0.9890 - val_loss: 0.4251 - val_binary_accuracy: 0.8749\n",
      "Epoch 12/20\n",
      "15000/15000 [==============================] - 3s 169us/step - loss: 0.0369 - binary_accuracy: 0.9915 - val_loss: 0.4531 - val_binary_accuracy: 0.8760\n",
      "Epoch 13/20\n",
      "15000/15000 [==============================] - 3s 172us/step - loss: 0.0296 - binary_accuracy: 0.9935 - val_loss: 0.5017 - val_binary_accuracy: 0.8742\n",
      "Epoch 14/20\n",
      "15000/15000 [==============================] - 3s 167us/step - loss: 0.0268 - binary_accuracy: 0.9935 - val_loss: 0.5203 - val_binary_accuracy: 0.8726\n",
      "Epoch 15/20\n",
      "15000/15000 [==============================] - 2s 166us/step - loss: 0.0157 - binary_accuracy: 0.9983 - val_loss: 0.5659 - val_binary_accuracy: 0.8717\n",
      "Epoch 16/20\n",
      "15000/15000 [==============================] - 2s 165us/step - loss: 0.0183 - binary_accuracy: 0.9959 - val_loss: 0.5918 - val_binary_accuracy: 0.8694\n",
      "Epoch 17/20\n",
      "15000/15000 [==============================] - 3s 167us/step - loss: 0.0086 - binary_accuracy: 0.9994 - val_loss: 0.6309 - val_binary_accuracy: 0.8692\n",
      "Epoch 18/20\n",
      "15000/15000 [==============================] - 2s 167us/step - loss: 0.0121 - binary_accuracy: 0.9979 - val_loss: 0.6665 - val_binary_accuracy: 0.8665\n",
      "Epoch 19/20\n",
      "15000/15000 [==============================] - 3s 168us/step - loss: 0.0118 - binary_accuracy: 0.9971 - val_loss: 0.7014 - val_binary_accuracy: 0.8650\n",
      "Epoch 20/20\n",
      "15000/15000 [==============================] - 3s 167us/step - loss: 0.0039 - binary_accuracy: 0.9999 - val_loss: 0.7335 - val_binary_accuracy: 0.8660\n"
     ]
    }
   ],
   "source": [
    "history = model.fit(partial_x_train, partial_y_train, 512, 20, validation_data=(x_val, y_val))"
   ]
  },
  {
   "cell_type": "code",
   "execution_count": 18,
   "metadata": {
    "colab": {
     "base_uri": "https://localhost:8080/",
     "height": 34
    },
    "colab_type": "code",
    "id": "z6bwCury7jJE",
    "outputId": "256b0e5f-59af-4c9e-cef4-7c331fffbb03"
   },
   "outputs": [
    {
     "name": "stdout",
     "output_type": "stream",
     "text": [
      "dict_keys(['val_loss', 'val_binary_accuracy', 'loss', 'binary_accuracy'])\n"
     ]
    }
   ],
   "source": [
    "print(history.history.keys())"
   ]
  },
  {
   "cell_type": "code",
   "execution_count": 20,
   "metadata": {
    "colab": {
     "base_uri": "https://localhost:8080/",
     "height": 295
    },
    "colab_type": "code",
    "id": "zAdzZ8sv6Y6q",
    "outputId": "5736b9f1-cbb0-45ee-da90-f444f888e986"
   },
   "outputs": [
    {
     "data": {
      "image/png": "[encoded data removed]",
      "text/plain": [
       "<Figure size 432x288 with 1 Axes>"
      ]
     },
     "metadata": {
      "needs_background": "light"
     },
     "output_type": "display_data"
    }
   ],
   "source": [
    "import matplotlib.pyplot as plt\n",
    "\n",
    "history_dict = history.history\n",
    "loss_values = history_dict['loss']\n",
    "val_loss_values = history_dict['val_loss'] #validation loss\n",
    "\n",
    "epochs = range(1, len(history_dict['binary_accuracy']) + 1) #threshold = 0.5\n",
    "\n",
    "plt.plot(epochs, loss_values, 'bo', label='Training loss') #bo is for blue dot\n",
    "plt.plot(epochs, val_loss_values, 'b', label='Validation loss')\n",
    "plt.title('Training and validation loss')\n",
    "plt.xlabel('Epochs')\n",
    "plt.ylabel('Loss')\n",
    "plt.legend()\n",
    "\n",
    "plt.show()"
   ]
  },
  {
   "cell_type": "code",
   "execution_count": 21,
   "metadata": {
    "colab": {
     "base_uri": "https://localhost:8080/",
     "height": 295
    },
    "colab_type": "code",
    "id": "Q5eq5m9WkDzb",
    "outputId": "09cdfe62-eff9-4a1b-e213-2d472819aac5"
   },
   "outputs": [
    {
     "data": {
      "image/png": "[encoded data removed]",
      "text/plain": [
       "<Figure size 432x288 with 1 Axes>"
      ]
     },
     "metadata": {
      "needs_background": "light"
     },
     "output_type": "display_data"
    }
   ],
   "source": [
    "acc_values = history_dict['binary_accuracy']\n",
    "val_acc_values = history_dict['val_binary_accuracy'] #validation loss\n",
    "\n",
    "plt.plot(epochs, acc_values, 'bo', label='Training accuracy') #bo is for blue dot\n",
    "plt.plot(epochs, val_acc_values, 'b', label='Validation accuracy')\n",
    "plt.title('Training and validation accuracy')\n",
    "plt.xlabel('Epochs')\n",
    "plt.ylabel('accuracy')\n",
    "plt.legend()\n",
    "\n",
    "plt.show()"
   ]
  },
  {
   "cell_type": "code",
   "execution_count": null,
   "metadata": {
    "colab": {
     "base_uri": "https://localhost:8080/",
     "height": 34
    },
    "colab_type": "code",
    "id": "qbjkxSinREx0",
    "outputId": "a9cd429f-dbb0-480f-87de-1aa220b170fe"
   },
   "outputs": [],
   "source": [
    "predictions = model.predict(x_test)\n",
    "\n",
    "# correct = 0\n",
    "# wrong = 0\n",
    "# for i in range(len(predictions)):\n",
    "#   if predictions[i] >= 0.95 and test_labels[i] == 1 or predictions[i] < 0.95 and test_labels[i] == 0:\n",
    "#     correct+=1\n",
    "#   elif predictions[i] < 0.95 and test_labels[i] or predictions[i] >= 0.95 and test_labels[i] == 0:\n",
    "#     wrong+=1\n",
    "# print(\"accuracy\", correct/(wrong + correct))\n",
    "\n",
    "model.test_on_batch(x_test, test_labels)"
   ]
  },
  {
   "cell_type": "code",
   "execution_count": null,
   "metadata": {},
   "outputs": [],
   "source": []
  }
 ],
 "metadata": {
  "colab": {
   "name": "DLw/P_Ch3.ipynb",
   "provenance": []
  },
  "kernelspec": {
   "display_name": "py36",
   "language": "python",
   "name": "py36"
  },
  "language_info": {
   "codemirror_mode": {
    "name": "ipython",
    "version": 3
   },
   "file_extension": ".py",
   "mimetype": "text/x-python",
   "name": "python",
   "nbconvert_exporter": "python",
   "pygments_lexer": "ipython3",
   "version": "3.6.9"
  }
 },
 "nbformat": 4,
 "nbformat_minor": 4
}
