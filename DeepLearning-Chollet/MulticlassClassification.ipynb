{
 "cells": [
  {
   "cell_type": "code",
   "execution_count": 1,
   "metadata": {},
   "outputs": [
    {
     "name": "stderr",
     "output_type": "stream",
     "text": [
      "Using TensorFlow backend.\n"
     ]
    }
   ],
   "source": [
    "from keras.datasets import reuters\n",
    "\n",
    "(train_data, train_labels), (test_data, test_labels) = reuters.load_data(num_words = 10000)"
   ]
  },
  {
   "cell_type": "code",
   "execution_count": 2,
   "metadata": {},
   "outputs": [],
   "source": [
    "word_index = reuters.get_word_index()\n",
    "reverse_word_index = dict([(value, key) for (key, value) in word_index.items()])\n",
    "decoded_newswire = ' '.join([reverse_word_index.get(i - 3, '?') for i in train_data[0]])"
   ]
  },
  {
   "cell_type": "code",
   "execution_count": 3,
   "metadata": {},
   "outputs": [],
   "source": [
    "import numpy as np\n",
    "\n",
    "def vectorize_sequences(sequences, dimension=10000):\n",
    "    results = np.zeros((len(sequences), dimension))\n",
    "    for i, sequence in enumerate(sequences):\n",
    "        results[i, sequence] = 1\n",
    "    return results\n",
    "\n",
    "x_train = vectorize_sequences(train_data)\n",
    "x_test = vectorize_sequences(test_data)"
   ]
  },
  {
   "cell_type": "code",
   "execution_count": 4,
   "metadata": {},
   "outputs": [],
   "source": [
    "#to vectorize the labels: you can cast the label list as an integer tensor or you can use one-hot encoding\n",
    "# one-hot encoding is a popular format for categorical data, also called categorical encoding\n",
    "\n",
    "def to_one_hot (labels, dimension=46):\n",
    "    results = np.zeros((len(labels), dimension))\n",
    "    for i, label in enumerate(labels):\n",
    "        results[i, label] = 1\n",
    "    return results\n",
    "\n",
    "one_hot_train_labels = to_one_hot(train_labels)\n",
    "one_hot_test_labels = to_one_hot(test_labels)"
   ]
  },
  {
   "cell_type": "code",
   "execution_count": 56,
   "metadata": {},
   "outputs": [],
   "source": [
    "#larger dimensional layers are required to classify the inputs into one of 46 categories without loss of data in the layers\n",
    "# a 16-dimensional layer might be too limited to learn 46 different classes: such small layers might act as information bottlenecks\n",
    "#so I'm going to use a 64-dimensional layer\n",
    "\n",
    "from keras import models\n",
    "from keras import layers\n",
    "\n",
    "model = models.Sequential()\n",
    "model.add(layers.Dense(64, activation='relu', input_shape=(10000,)))\n",
    "model.add(layers.Dense(64, activation='relu'))\n",
    "model.add(layers.Dense(46, activation='softmax'))#46 dimensional-layer output a 46-dimensional vector for the different output classes\n",
    "\n",
    "#best solution thus far: one hidden layer"
   ]
  },
  {
   "cell_type": "code",
   "execution_count": 57,
   "metadata": {},
   "outputs": [],
   "source": [
    "model.compile(optimizer=\"rmsprop\", loss='categorical_crossentropy', metrics=['accuracy'])"
   ]
  },
  {
   "cell_type": "code",
   "execution_count": 58,
   "metadata": {},
   "outputs": [],
   "source": [
    "x_val = x_train[:1000]\n",
    "partial_x_train = x_train[1000:]\n",
    "\n",
    "y_val = one_hot_train_labels[:1000]\n",
    "partial_y_train = one_hot_train_labels[1000:]"
   ]
  },
  {
   "cell_type": "code",
   "execution_count": 64,
   "metadata": {},
   "outputs": [
    {
     "name": "stdout",
     "output_type": "stream",
     "text": [
      "Train on 7982 samples, validate on 1000 samples\n",
      "Epoch 1/15\n",
      "7982/7982 [==============================] - 2s 221us/step - loss: 0.2698 - accuracy: 0.9384 - val_loss: 1.0793 - val_accuracy: 0.7890\n",
      "Epoch 2/15\n",
      "7982/7982 [==============================] - 2s 215us/step - loss: 0.2310 - accuracy: 0.9463 - val_loss: 1.0952 - val_accuracy: 0.8030\n",
      "Epoch 3/15\n",
      "7982/7982 [==============================] - 2s 211us/step - loss: 0.1993 - accuracy: 0.9491 - val_loss: 1.1750 - val_accuracy: 0.7750\n",
      "Epoch 4/15\n",
      "7982/7982 [==============================] - 2s 206us/step - loss: 0.1748 - accuracy: 0.9526 - val_loss: 1.1378 - val_accuracy: 0.7880\n",
      "Epoch 5/15\n",
      "7982/7982 [==============================] - 2s 208us/step - loss: 0.1611 - accuracy: 0.9564 - val_loss: 1.1415 - val_accuracy: 0.8020\n",
      "Epoch 6/15\n",
      "7982/7982 [==============================] - 2s 207us/step - loss: 0.1585 - accuracy: 0.9548 - val_loss: 1.2163 - val_accuracy: 0.7850\n",
      "Epoch 7/15\n",
      "7982/7982 [==============================] - 2s 208us/step - loss: 0.1434 - accuracy: 0.9567 - val_loss: 1.1931 - val_accuracy: 0.7890\n",
      "Epoch 8/15\n",
      "7982/7982 [==============================] - 2s 207us/step - loss: 0.1404 - accuracy: 0.9557 - val_loss: 1.1746 - val_accuracy: 0.8060\n",
      "Epoch 9/15\n",
      "7982/7982 [==============================] - 2s 207us/step - loss: 0.1333 - accuracy: 0.9574 - val_loss: 1.2274 - val_accuracy: 0.8030\n",
      "Epoch 10/15\n",
      "7982/7982 [==============================] - 2s 208us/step - loss: 0.1294 - accuracy: 0.9600 - val_loss: 1.2300 - val_accuracy: 0.7920\n",
      "Epoch 11/15\n",
      "7982/7982 [==============================] - 2s 208us/step - loss: 0.1237 - accuracy: 0.9583 - val_loss: 1.2645 - val_accuracy: 0.7900\n",
      "Epoch 12/15\n",
      "7982/7982 [==============================] - 2s 207us/step - loss: 0.1154 - accuracy: 0.9592 - val_loss: 1.2681 - val_accuracy: 0.7960\n",
      "Epoch 13/15\n",
      "7982/7982 [==============================] - 2s 208us/step - loss: 0.1203 - accuracy: 0.9590 - val_loss: 1.2325 - val_accuracy: 0.7950\n",
      "Epoch 14/15\n",
      "7982/7982 [==============================] - 2s 213us/step - loss: 0.1127 - accuracy: 0.9580 - val_loss: 1.2617 - val_accuracy: 0.7960\n",
      "Epoch 15/15\n",
      "7982/7982 [==============================] - 2s 210us/step - loss: 0.1134 - accuracy: 0.9574 - val_loss: 1.3943 - val_accuracy: 0.7750\n"
     ]
    }
   ],
   "source": [
    "history = model.fit(partial_x_train, partial_y_train, validation_data=(x_val, y_val), epochs=15, batch_size=512)"
   ]
  },
  {
   "cell_type": "code",
   "execution_count": 65,
   "metadata": {},
   "outputs": [
    {
     "data": {
      "image/png": "[encoded data removed]",
      "text/plain": [
       "<Figure size 432x288 with 1 Axes>"
      ]
     },
     "metadata": {
      "needs_background": "light"
     },
     "output_type": "display_data"
    }
   ],
   "source": [
    "import matplotlib.pyplot as plt\n",
    "\n",
    "loss = history.history['loss']\n",
    "val_loss = history.history['val_loss']\n",
    "\n",
    "epochs = range(1, len(loss) + 1)\n",
    "\n",
    "plt.plot(epochs, loss, 'bo', label='Training loss')\n",
    "plt.plot(epochs, val_loss, 'b', label='Validation loss')\n",
    "plt.title('Training and validation loss')\n",
    "plt.xlabel('Loss')\n",
    "plt.ylabel('Epochs')\n",
    "plt.legend()\n",
    "\n",
    "plt.show()"
   ]
  },
  {
   "cell_type": "code",
   "execution_count": 66,
   "metadata": {},
   "outputs": [
    {
     "data": {
      "image/png": "[encoded data removed]",
      "text/plain": [
       "<Figure size 432x288 with 1 Axes>"
      ]
     },
     "metadata": {
      "needs_background": "light"
     },
     "output_type": "display_data"
    }
   ],
   "source": [
    "loss = history.history['accuracy']\n",
    "val_loss = history.history['val_accuracy']\n",
    "\n",
    "epochs = range(1, len(loss) + 1)\n",
    "\n",
    "plt.plot(epochs, loss, 'bo', label='Training accuracy')\n",
    "plt.plot(epochs, val_loss, 'b', label='Validation accuracy')\n",
    "plt.title('Training and validation accuracy')\n",
    "plt.xlabel('Accuracy')\n",
    "plt.ylabel('Epochs')\n",
    "plt.legend()\n",
    "\n",
    "plt.show()"
   ]
  },
  {
   "cell_type": "code",
   "execution_count": 69,
   "metadata": {},
   "outputs": [
    {
     "data": {
      "text/plain": [
       "[1.612764, 0.75556546]"
      ]
     },
     "execution_count": 69,
     "metadata": {},
     "output_type": "execute_result"
    }
   ],
   "source": [
    "# model.predict(x_test)\n",
    "\n",
    "\n",
    "model.test_on_batch(x_test, one_hot_test_labels)"
   ]
  }
 ],
 "metadata": {
  "kernelspec": {
   "display_name": "py36",
   "language": "python",
   "name": "py36"
  },
  "language_info": {
   "codemirror_mode": {
    "name": "ipython",
    "version": 3
   },
   "file_extension": ".py",
   "mimetype": "text/x-python",
   "name": "python",
   "nbconvert_exporter": "python",
   "pygments_lexer": "ipython3",
   "version": "3.6.9"
  }
 },
 "nbformat": 4,
 "nbformat_minor": 4
}
